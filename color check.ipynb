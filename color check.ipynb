{
 "cells": [
  {
   "cell_type": "code",
   "execution_count": null,
   "metadata": {},
   "outputs": [],
   "source": [
    "import os\n",
    "import numpy as np\n",
    "from PIL import Image\n",
    "\n",
    "# Step 1: Automatically gather image paths\n",
    "folder_path = \".\"  # Replace with your folder path\n",
    "image_paths = [\n",
    "    os.path.join(folder_path, file_name)\n",
    "    for file_name in os.listdir(folder_path)\n",
    "    if file_name.lower().endswith(('.png'))\n",
    "]\n",
    "\n",
    "# Step 2: Process each image\n",
    "print(f\"Total images = {len(image_paths)}\\n\")\n",
    "for image_path in image_paths:\n",
    "    try:\n",
    "        # Open the image and convert to grayscale\n",
    "        image = Image.open(image_path).convert('L') # Convert to grayscale\n",
    "        image_array = np.array(image)\n",
    "\n",
    "        # Check the unique values in the array\n",
    "        unique_values = np.unique(image_array)\n",
    "\n",
    "        # Check if the image contains only binary values (0 and 255)\n",
    "        if np.array_equal(unique_values, [0, 255]):\n",
    "            print(f\"The image {os.path.basename(image_path)} contains only binary values (0 and 255).\")\n",
    "        else:\n",
    "            print(f\"\\nThe image {os.path.basename(image_path)} contains values other than 0 and 255.\\n\")\n",
    "    except Exception as e:\n",
    "        print(f\"Error processing image {image_path}: {e}\")\n"
   ]
  }
 ],
 "metadata": {
  "kernelspec": {
   "display_name": "Python 3",
   "language": "python",
   "name": "python3"
  },
  "language_info": {
   "name": "python",
   "version": "3.11.4"
  }
 },
 "nbformat": 4,
 "nbformat_minor": 2
}
