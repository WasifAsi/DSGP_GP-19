{
  "nbformat": 4,
  "nbformat_minor": 0,
  "metadata": {
    "colab": {
      "provenance": [],
      "gpuType": "T4",
      "authorship_tag": "ABX9TyMCdR1VEfI9guDKVsohdrO/",
      "include_colab_link": true
    },
    "kernelspec": {
      "name": "python3",
      "display_name": "Python 3"
    },
    "language_info": {
      "name": "python"
    },
    "accelerator": "GPU"
  },
  "cells": [
    {
      "cell_type": "markdown",
      "metadata": {
        "id": "view-in-github",
        "colab_type": "text"
      },
      "source": [
        "<a href=\"https://colab.research.google.com/github/WasifAsi/DSGP_GP-19/blob/deeplabv3%2B/DeepLab.ipynb\" target=\"_parent\"><img src=\"https://colab.research.google.com/assets/colab-badge.svg\" alt=\"Open In Colab\"/></a>"
      ]
    },
    {
      "cell_type": "markdown",
      "source": [
        "#**Imports**"
      ],
      "metadata": {
        "id": "TT33Z7EzF5GO"
      }
    },
    {
      "cell_type": "code",
      "source": [
        "import os\n",
        "import numpy as np\n",
        "import torch\n",
        "import torch.nn as nn\n",
        "import torch.nn.functional as F\n",
        "from torch.utils.data import Dataset, DataLoader\n",
        "import torch.optim as optim\n",
        "from torch.optim.lr_scheduler import CosineAnnealingLR\n",
        "from torchvision import transforms\n",
        "from PIL import Image\n",
        "import cv2\n",
        "from google.colab import drive\n",
        "import albumentations as A\n",
        "from albumentations.pytorch import ToTensorV2\n",
        "import pickle\n",
        "from tqdm import tqdm\n",
        "from sklearn.metrics import classification_report, confusion_matrix\n",
        "\n",
        "# Mount Google Drive\n",
        "drive.mount('/content/drive')\n",
        "\n",
        "# Create model directory in Google Drive\n",
        "MODEL_SAVE_PATH = '/content/drive/MyDrive/shoreline_models'\n",
        "os.makedirs(MODEL_SAVE_PATH, exist_ok=True)\n",
        "\n",
        "# Set device\n",
        "device = torch.device('cuda' if torch.cuda.is_available() else 'cpu')\n",
        "print('Using device:', device)\n",
        "\n",
        "# Set hyperparameters\n",
        "learning_rate = 0.0005\n",
        "batch_size = 6  # decreased from 8\n",
        "num_epochs = 200\n",
        "image_size = 540  # Increased from 240"
      ],
      "metadata": {
        "id": "Ygqb7k9LF9tt"
      },
      "execution_count": null,
      "outputs": []
    },
    {
      "cell_type": "markdown",
      "source": [
        "#**Loss Functions**"
      ],
      "metadata": {
        "id": "glPlNjd2GIQN"
      }
    },
    {
      "cell_type": "code",
      "source": [
        "class FocalLoss(nn.Module):\n",
        "    def __init__(self, alpha=0.003, gamma=5.0):\n",
        "        super().__init__()\n",
        "        self.alpha = alpha\n",
        "        self.gamma = gamma\n",
        "\n",
        "    def forward(self, pred, target):\n",
        "        # Apply sigmoid\n",
        "        pred_prob = torch.sigmoid(pred)\n",
        "\n",
        "        # Calculate pt\n",
        "        pt = target * pred_prob + (1 - target) * (1 - pred_prob)\n",
        "\n",
        "        # Calculate focal weight\n",
        "        focal_weight = (1 - pt) ** self.gamma\n",
        "\n",
        "        # Calculate loss\n",
        "        loss = -self.alpha * focal_weight * torch.log(pt + 1e-12)\n",
        "\n",
        "        return loss.mean()\n",
        "\n",
        "# Combine with Dice Loss\n",
        "class CombinedFocalDiceLoss(nn.Module):\n",
        "    def __init__(self, alpha=0.8, gamma=2.0, dice_weight=0.5):\n",
        "        super().__init__()\n",
        "        self.focal = FocalLoss(alpha=alpha, gamma=gamma)\n",
        "        self.dice_weight = dice_weight\n",
        "\n",
        "    def forward(self, pred, target):\n",
        "        focal_loss = self.focal(pred, target)\n",
        "\n",
        "        pred_prob = torch.sigmoid(pred)\n",
        "        intersection = (pred_prob * target).sum()\n",
        "        dice_loss = 1 - (2. * intersection + 1) / (pred_prob.sum() + target.sum() + 1)\n",
        "\n",
        "        return focal_loss + self.dice_weight * dice_loss"
      ],
      "metadata": {
        "id": "na8fg8BgGMe1"
      },
      "execution_count": null,
      "outputs": []
    }
  ]
}